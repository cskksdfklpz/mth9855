{
 "cells": [
  {
   "cell_type": "markdown",
   "id": "dominant-airport",
   "metadata": {},
   "source": [
    "# Problem 3.3\n",
    "\n",
    "We want to prove that $\\mu(\\sigma)$ is a convex function. Then consider two points $(\\mu_1,\\sigma_1), (\\mu_2,\\sigma_2)$ on the indifference curve:\n",
    "\n",
    "\\begin{equation}\n",
    "    \\hat{U}(\\mu_1,\\sigma_1) = \\hat{U}(\\mu_2,\\sigma_2) = U_0\n",
    "\\end{equation}\n",
    "\n",
    "and for $\\forall \\theta \\in (0,1)$ we define the convex combination as follows:\n",
    "\n",
    "\\begin{equation}\n",
    "    \\begin{aligned}\n",
    "        \\mu_{\\theta} &= \\theta \\mu_1 + (1-\\theta) \\mu_2\\\\\n",
    "        \\sigma_{\\theta} &= \\theta \\sigma_1 + (1-\\theta) \\sigma_2\\\\\n",
    "    \\end{aligned}\n",
    "\\end{equation}\n",
    "\n",
    "then by the concavity of the utility function $u(\\cdot)$ we have\n",
    "\n",
    "\\begin{equation}\n",
    "    u(\\mu_\\theta + \\sigma_\\theta z) > \\theta u(\\mu_1 \\sigma_1 z) + (1-\\theta) u(\\mu_2 + \\sigma_2 z)\n",
    "\\end{equation}\n",
    "\n",
    "then we can find in the expected utility\n",
    "\n",
    "\\begin{equation}\n",
    "    \\begin{aligned}\n",
    "        \\hat{U}(\\mu_\\theta, \\sigma_\\theta)  &= \\int_{\\mathbb{R}} u(\\mu_\\theta + \\sigma_\\theta z) g_1(z^2) \\mathrm{d} z\\\\\n",
    "                                            &> \\int_{\\mathbb{R}} \\left[\\theta u(\\mu_1+\\sigma_1 z) + (1-\\theta) u(\\mu_2 + \\sigma_2 z)) \\right] g_1(z^2)  \\mathrm{d} z\\\\\n",
    "                                            &= \\theta \\hat{U}(\\mu_1, \\sigma_1) + (1-\\theta) \\hat{U} (\\mu_2, \\sigma_2)\\\\\n",
    "                                            &= U_0\\\\\n",
    "                                            &= \\hat{U}(\\mu(\\sigma_\\theta), \\sigma_\\theta)\\\\\n",
    "    \\end{aligned}\n",
    "\\end{equation}\n",
    "\n",
    "since by Theorem 3.2 $\\hat{U}$ is increasing function of $\\mu$, we know\n",
    "\n",
    "\\begin{equation}\n",
    "    \\mu_\\theta > \\mu(\\sigma_\\theta)\n",
    "\\end{equation}\n",
    "\n",
    "which means\n",
    "\n",
    "\\begin{equation}\n",
    "    \\theta\\mu_1 + (1-\\theta) \\mu_2 = \\theta\\mu(\\sigma_1) + (1-\\theta) \\mu(\\sigma_2) > \\mu (\\theta\\sigma_1 + (1-\\theta)\\sigma_2)\n",
    "\\end{equation}\n",
    "\n",
    "so $\\mu(\\sigma)$ is a convex function, we know have\n",
    "\n",
    "\\begin{equation}\n",
    "    \\frac{\\mathrm{d}^2 \\mu}{\\mathrm{d}\\sigma^2} > 0\n",
    "\\end{equation}"
   ]
  },
  {
   "cell_type": "markdown",
   "id": "adopted-transaction",
   "metadata": {},
   "source": [
    "# Problem 3.4\n",
    "\n",
    "By definition we have\n",
    "\n",
    "\\begin{equation}\n",
    "    \\begin{aligned}\n",
    "        \\mathbb{E}(u) &= \\int_0^\\infty \\log(x)f(x;m,s)\\mathrm{d}x\\\\\n",
    "        (t = \\log (x)) &= \\int_{-\\infty}^\\infty t \\frac{1}{s\\mathrm{e}^t\\sqrt{2\\pi}}\\mathrm{e}^{-\\frac{(t-m)^2}{2s^2}}\\mathrm{e}^t \\mathrm{d}t\\\\\n",
    "                       &= \\int_{-\\infty}^\\infty \\frac{t}{\\sqrt{2\\pi}s}\\mathrm{e}^{-\\frac{(t-m)^2}{2s^2}}\\mathrm{d}t\\\\\n",
    "                       &= m\\\\\n",
    "                       &= (m + s^2/2) - \\frac{1}{2}s^2\\\\\n",
    "                       &= \\log\\mu - \\frac{1}{2}\\log\\left(1+\\frac{\\sigma^2}{\\mu^2}\\right)\\\\\n",
    "                       &= 2\\log\\mu - \\frac{1}{2}\\log(\\mu^2+\\sigma^2)\\\\\n",
    "    \\end{aligned}\n",
    "\\end{equation}\n",
    "\n",
    "By making $\\mathbb{E}(u)$ constant and taking derivitive on both sides, we have\n",
    "\n",
    "\\begin{equation}\n",
    "    \\begin{aligned}\n",
    "    & 0 = \\frac{2\\mu'}{\\mu}-\\frac{\\mu\\mu'+\\sigma\\sigma'}{\\mu^2+\\sigma^2}\\\\\n",
    "\\Rightarrow & \\frac{\\mathrm{d}\\mu}{\\mathrm{d}\\sigma} = \\frac{\\mu'}{\\sigma'} = \\frac{\\mu\\sigma}{\\mu^2+2\\sigma^2} > 0\\\\\n",
    "\\Rightarrow & \\frac{\\mathrm{d}^2\\mu}{\\mathrm{d}\\sigma^2} = \\frac{\\mu(\\mu^2-2\\sigma^2)}{(\\mu^2+2\\sigma^2)^2}\\\\\n",
    "    \\end{aligned}\n",
    "\\end{equation}\n",
    "\n",
    "so we can see that $\\mathrm{d}^2\\mu / \\mathrm{d}\\sigma^2$ may change sign. The following python code will verify this."
   ]
  },
  {
   "cell_type": "code",
   "execution_count": 1,
   "id": "parliamentary-mauritius",
   "metadata": {
    "execution": {
     "iopub.execute_input": "2021-03-02T04:36:36.480095Z",
     "iopub.status.busy": "2021-03-02T04:36:36.480004Z",
     "iopub.status.idle": "2021-03-02T04:36:36.636739Z",
     "shell.execute_reply": "2021-03-02T04:36:36.636427Z",
     "shell.execute_reply.started": "2021-03-02T04:36:36.480068Z"
    }
   },
   "outputs": [],
   "source": [
    "import numpy as np\n",
    "import matplotlib.pyplot as plt"
   ]
  },
  {
   "cell_type": "code",
   "execution_count": 2,
   "id": "intimate-spanking",
   "metadata": {
    "execution": {
     "iopub.execute_input": "2021-03-02T04:36:36.637493Z",
     "iopub.status.busy": "2021-03-02T04:36:36.637426Z",
     "iopub.status.idle": "2021-03-02T04:36:36.810960Z",
     "shell.execute_reply": "2021-03-02T04:36:36.810725Z",
     "shell.execute_reply.started": "2021-03-02T04:36:36.637484Z"
    }
   },
   "outputs": [
    {
     "data": {
      "text/plain": [
       "<matplotlib.legend.Legend at 0x11bf2c460>"
      ]
     },
     "execution_count": 2,
     "metadata": {},
     "output_type": "execute_result"
    },
    {
     "data": {
      "image/png": "[encoded data removed]",
      "text/plain": [
       "<Figure size 360x360 with 1 Axes>"
      ]
     },
     "metadata": {
      "needs_background": "light"
     },
     "output_type": "display_data"
    }
   ],
   "source": [
    "def draw(Eu, ax):\n",
    "    mu_min = 1.0001 * np.exp(Eu)\n",
    "    mu = np.arange(mu_min, np.sqrt(1.5)*mu_min, 0.1)\n",
    "    sigma = mu * np.sqrt(np.power(mu,2)*np.exp(-2*Eu)-1)\n",
    "    ax.plot(sigma, mu, label='Eu={:.3f}'.format(Eu))\n",
    "\n",
    "fig, ax = plt.subplots(figsize=(5,5))\n",
    "draw(Eu=0.1, ax=ax)\n",
    "draw(Eu=0.2, ax=ax)\n",
    "draw(Eu=0.3, ax=ax)\n",
    "draw(Eu=0.4, ax=ax)\n",
    "ax.set_xlabel('$\\sigma$')\n",
    "ax.set_ylabel('$\\mu$')\n",
    "ax.legend(loc='best')"
   ]
  },
  {
   "cell_type": "markdown",
   "id": "suburban-grocery",
   "metadata": {},
   "source": [
    "as we can see from the plot\n",
    "\n",
    "1. $\\mathrm{d}\\mu/\\mathrm{d}\\sigma > 0$\n",
    "2. The convexity of $\\mu(\\sigma)$ may change"
   ]
  },
  {
   "cell_type": "code",
   "execution_count": null,
   "id": "educational-database",
   "metadata": {},
   "outputs": [],
   "source": []
  }
 ],
 "metadata": {
  "kernelspec": {
   "display_name": "Python 3",
   "language": "python",
   "name": "python3"
  },
  "language_info": {
   "codemirror_mode": {
    "name": "ipython",
    "version": 3
   },
   "file_extension": ".py",
   "mimetype": "text/x-python",
   "name": "python",
   "nbconvert_exporter": "python",
   "pygments_lexer": "ipython3",
   "version": "3.9.1"
  }
 },
 "nbformat": 4,
 "nbformat_minor": 5
}
