{
 "cells": [
  {
   "cell_type": "markdown",
   "id": "partial-general",
   "metadata": {},
   "source": [
    "# Homework 4"
   ]
  },
  {
   "cell_type": "markdown",
   "id": "breathing-holder",
   "metadata": {},
   "source": [
    "## Problem 4.1\n",
    "\n",
    "The data set accompanying this homework gives daily returns for three stocks: TSLA, AAPL, and IBM (stored on GitHub repo)."
   ]
  },
  {
   "cell_type": "markdown",
   "id": "abandoned-thermal",
   "metadata": {},
   "source": [
    "(a) Calculate the historical (regressed, no intercept) beta, for each of these assets as of Dec 31, 2014. In each case, calculate the appropriate t-statistic on the coefficient to test the null hypothesis $\\beta=0$ and state whether you reject the null hypothesis."
   ]
  },
  {
   "cell_type": "code",
   "execution_count": 1,
   "id": "proved-delay",
   "metadata": {
    "execution": {
     "iopub.execute_input": "2021-03-14T19:20:15.861533Z",
     "iopub.status.busy": "2021-03-14T19:20:15.861177Z",
     "iopub.status.idle": "2021-03-14T19:20:16.627486Z",
     "shell.execute_reply": "2021-03-14T19:20:16.627210Z",
     "shell.execute_reply.started": "2021-03-14T19:20:15.861441Z"
    },
    "tags": []
   },
   "outputs": [],
   "source": [
    "import pandas as pd\n",
    "import statsmodels.api as sm\n",
    "import matplotlib.pyplot as plt\n",
    "\n",
    "%matplotlib inline"
   ]
  },
  {
   "cell_type": "code",
   "execution_count": 2,
   "id": "worse-classification",
   "metadata": {
    "execution": {
     "iopub.execute_input": "2021-03-14T19:20:17.259780Z",
     "iopub.status.busy": "2021-03-14T19:20:17.259272Z",
     "iopub.status.idle": "2021-03-14T19:20:17.502486Z",
     "shell.execute_reply": "2021-03-14T19:20:17.502144Z",
     "shell.execute_reply.started": "2021-03-14T19:20:17.259728Z"
    },
    "tags": []
   },
   "outputs": [
    {
     "name": "stdout",
     "output_type": "stream",
     "text": [
      "<class 'pandas.core.frame.DataFrame'>\n",
      "RangeIndex: 19656 entries, 0 to 19655\n",
      "Data columns (total 4 columns):\n",
      " #   Column  Non-Null Count  Dtype  \n",
      "---  ------  --------------  -----  \n",
      " 0   DATE    19656 non-null  object \n",
      " 1   TICKER  19656 non-null  object \n",
      " 2   RM      19656 non-null  float64\n",
      " 3   R       14490 non-null  float64\n",
      "dtypes: float64(2), object(2)\n",
      "memory usage: 614.4+ KB\n"
     ]
    },
    {
     "data": {
      "text/html": [
       "<div>\n",
       "<style scoped>\n",
       "    .dataframe tbody tr th:only-of-type {\n",
       "        vertical-align: middle;\n",
       "    }\n",
       "\n",
       "    .dataframe tbody tr th {\n",
       "        vertical-align: top;\n",
       "    }\n",
       "\n",
       "    .dataframe thead th {\n",
       "        text-align: right;\n",
       "    }\n",
       "</style>\n",
       "<table border=\"1\" class=\"dataframe\">\n",
       "  <thead>\n",
       "    <tr style=\"text-align: right;\">\n",
       "      <th></th>\n",
       "      <th>DATE</th>\n",
       "      <th>TICKER</th>\n",
       "      <th>RM</th>\n",
       "      <th>R</th>\n",
       "    </tr>\n",
       "  </thead>\n",
       "  <tbody>\n",
       "    <tr>\n",
       "      <th>0</th>\n",
       "      <td>1990-01-02</td>\n",
       "      <td>IBM</td>\n",
       "      <td>0.017799</td>\n",
       "      <td>0.041169</td>\n",
       "    </tr>\n",
       "    <tr>\n",
       "      <th>1</th>\n",
       "      <td>1990-01-03</td>\n",
       "      <td>IBM</td>\n",
       "      <td>-0.002586</td>\n",
       "      <td>0.008929</td>\n",
       "    </tr>\n",
       "    <tr>\n",
       "      <th>2</th>\n",
       "      <td>1990-01-04</td>\n",
       "      <td>IBM</td>\n",
       "      <td>-0.008613</td>\n",
       "      <td>0.011378</td>\n",
       "    </tr>\n",
       "    <tr>\n",
       "      <th>3</th>\n",
       "      <td>1990-01-05</td>\n",
       "      <td>IBM</td>\n",
       "      <td>-0.009756</td>\n",
       "      <td>-0.002500</td>\n",
       "    </tr>\n",
       "    <tr>\n",
       "      <th>4</th>\n",
       "      <td>1990-01-08</td>\n",
       "      <td>IBM</td>\n",
       "      <td>0.004514</td>\n",
       "      <td>0.006266</td>\n",
       "    </tr>\n",
       "    <tr>\n",
       "      <th>...</th>\n",
       "      <td>...</td>\n",
       "      <td>...</td>\n",
       "      <td>...</td>\n",
       "      <td>...</td>\n",
       "    </tr>\n",
       "    <tr>\n",
       "      <th>19651</th>\n",
       "      <td>2015-12-23</td>\n",
       "      <td>TSLA</td>\n",
       "      <td>0.012418</td>\n",
       "      <td>-0.001087</td>\n",
       "    </tr>\n",
       "    <tr>\n",
       "      <th>19652</th>\n",
       "      <td>2015-12-24</td>\n",
       "      <td>TSLA</td>\n",
       "      <td>-0.001599</td>\n",
       "      <td>0.003788</td>\n",
       "    </tr>\n",
       "    <tr>\n",
       "      <th>19653</th>\n",
       "      <td>2015-12-28</td>\n",
       "      <td>TSLA</td>\n",
       "      <td>-0.002179</td>\n",
       "      <td>-0.007026</td>\n",
       "    </tr>\n",
       "    <tr>\n",
       "      <th>19654</th>\n",
       "      <td>2015-12-29</td>\n",
       "      <td>TSLA</td>\n",
       "      <td>0.010630</td>\n",
       "      <td>0.035990</td>\n",
       "    </tr>\n",
       "    <tr>\n",
       "      <th>19655</th>\n",
       "      <td>2015-12-30</td>\n",
       "      <td>TSLA</td>\n",
       "      <td>-0.007217</td>\n",
       "      <td>0.003794</td>\n",
       "    </tr>\n",
       "  </tbody>\n",
       "</table>\n",
       "<p>19656 rows × 4 columns</p>\n",
       "</div>"
      ],
      "text/plain": [
       "             DATE TICKER        RM         R\n",
       "0      1990-01-02    IBM  0.017799  0.041169\n",
       "1      1990-01-03    IBM -0.002586  0.008929\n",
       "2      1990-01-04    IBM -0.008613  0.011378\n",
       "3      1990-01-05    IBM -0.009756 -0.002500\n",
       "4      1990-01-08    IBM  0.004514  0.006266\n",
       "...           ...    ...       ...       ...\n",
       "19651  2015-12-23   TSLA  0.012418 -0.001087\n",
       "19652  2015-12-24   TSLA -0.001599  0.003788\n",
       "19653  2015-12-28   TSLA -0.002179 -0.007026\n",
       "19654  2015-12-29   TSLA  0.010630  0.035990\n",
       "19655  2015-12-30   TSLA -0.007217  0.003794\n",
       "\n",
       "[19656 rows x 4 columns]"
      ]
     },
     "execution_count": 2,
     "metadata": {},
     "output_type": "execute_result"
    }
   ],
   "source": [
    "df_r = pd.read_csv(\n",
    "    \"https://raw.githubusercontent.com/cskksdfklpz/database/main/AAPL_IBM_TSLA.txt\",\n",
    "    sep=\"|\",\n",
    ")\n",
    "df_r.info(verbose=True, show_counts=True)\n",
    "df_r"
   ]
  },
  {
   "cell_type": "code",
   "execution_count": 12,
   "id": "collaborative-serum",
   "metadata": {
    "execution": {
     "iopub.execute_input": "2021-03-14T19:25:45.159663Z",
     "iopub.status.busy": "2021-03-14T19:25:45.159227Z",
     "iopub.status.idle": "2021-03-14T19:25:45.188923Z",
     "shell.execute_reply": "2021-03-14T19:25:45.188582Z",
     "shell.execute_reply.started": "2021-03-14T19:25:45.159614Z"
    },
    "tags": []
   },
   "outputs": [
    {
     "data": {
      "text/html": [
       "<div>\n",
       "<style scoped>\n",
       "    .dataframe tbody tr th:only-of-type {\n",
       "        vertical-align: middle;\n",
       "    }\n",
       "\n",
       "    .dataframe tbody tr th {\n",
       "        vertical-align: top;\n",
       "    }\n",
       "\n",
       "    .dataframe thead th {\n",
       "        text-align: right;\n",
       "    }\n",
       "</style>\n",
       "<table border=\"1\" class=\"dataframe\">\n",
       "  <thead>\n",
       "    <tr style=\"text-align: right;\">\n",
       "      <th></th>\n",
       "      <th>DATE</th>\n",
       "      <th>TICKER</th>\n",
       "      <th>RM</th>\n",
       "      <th>R</th>\n",
       "    </tr>\n",
       "  </thead>\n",
       "  <tbody>\n",
       "    <tr>\n",
       "      <th>6552</th>\n",
       "      <td>1990-01-02</td>\n",
       "      <td>AAPL</td>\n",
       "      <td>0.017799</td>\n",
       "      <td>0.056738</td>\n",
       "    </tr>\n",
       "    <tr>\n",
       "      <th>6553</th>\n",
       "      <td>1990-01-03</td>\n",
       "      <td>AAPL</td>\n",
       "      <td>-0.002586</td>\n",
       "      <td>0.006711</td>\n",
       "    </tr>\n",
       "    <tr>\n",
       "      <th>6554</th>\n",
       "      <td>1990-01-04</td>\n",
       "      <td>AAPL</td>\n",
       "      <td>-0.008613</td>\n",
       "      <td>0.003333</td>\n",
       "    </tr>\n",
       "    <tr>\n",
       "      <th>6555</th>\n",
       "      <td>1990-01-05</td>\n",
       "      <td>AAPL</td>\n",
       "      <td>-0.009756</td>\n",
       "      <td>0.003322</td>\n",
       "    </tr>\n",
       "    <tr>\n",
       "      <th>6556</th>\n",
       "      <td>1990-01-08</td>\n",
       "      <td>AAPL</td>\n",
       "      <td>0.004514</td>\n",
       "      <td>0.006623</td>\n",
       "    </tr>\n",
       "    <tr>\n",
       "      <th>...</th>\n",
       "      <td>...</td>\n",
       "      <td>...</td>\n",
       "      <td>...</td>\n",
       "      <td>...</td>\n",
       "    </tr>\n",
       "    <tr>\n",
       "      <th>13099</th>\n",
       "      <td>2015-12-23</td>\n",
       "      <td>AAPL</td>\n",
       "      <td>0.012418</td>\n",
       "      <td>0.012870</td>\n",
       "    </tr>\n",
       "    <tr>\n",
       "      <th>13100</th>\n",
       "      <td>2015-12-24</td>\n",
       "      <td>AAPL</td>\n",
       "      <td>-0.001599</td>\n",
       "      <td>-0.005340</td>\n",
       "    </tr>\n",
       "    <tr>\n",
       "      <th>13101</th>\n",
       "      <td>2015-12-28</td>\n",
       "      <td>AAPL</td>\n",
       "      <td>-0.002179</td>\n",
       "      <td>-0.011201</td>\n",
       "    </tr>\n",
       "    <tr>\n",
       "      <th>13102</th>\n",
       "      <td>2015-12-29</td>\n",
       "      <td>AAPL</td>\n",
       "      <td>0.010630</td>\n",
       "      <td>0.017974</td>\n",
       "    </tr>\n",
       "    <tr>\n",
       "      <th>13103</th>\n",
       "      <td>2015-12-30</td>\n",
       "      <td>AAPL</td>\n",
       "      <td>-0.007217</td>\n",
       "      <td>-0.013059</td>\n",
       "    </tr>\n",
       "  </tbody>\n",
       "</table>\n",
       "<p>6552 rows × 4 columns</p>\n",
       "</div>"
      ],
      "text/plain": [
       "             DATE TICKER        RM         R\n",
       "6552   1990-01-02   AAPL  0.017799  0.056738\n",
       "6553   1990-01-03   AAPL -0.002586  0.006711\n",
       "6554   1990-01-04   AAPL -0.008613  0.003333\n",
       "6555   1990-01-05   AAPL -0.009756  0.003322\n",
       "6556   1990-01-08   AAPL  0.004514  0.006623\n",
       "...           ...    ...       ...       ...\n",
       "13099  2015-12-23   AAPL  0.012418  0.012870\n",
       "13100  2015-12-24   AAPL -0.001599 -0.005340\n",
       "13101  2015-12-28   AAPL -0.002179 -0.011201\n",
       "13102  2015-12-29   AAPL  0.010630  0.017974\n",
       "13103  2015-12-30   AAPL -0.007217 -0.013059\n",
       "\n",
       "[6552 rows x 4 columns]"
      ]
     },
     "execution_count": 12,
     "metadata": {},
     "output_type": "execute_result"
    }
   ],
   "source": [
    "df_r.loc[df_r['TICKER'] == 'AAPL'].dropna()"
   ]
  },
  {
   "cell_type": "code",
   "execution_count": 22,
   "id": "thousand-links",
   "metadata": {
    "execution": {
     "iopub.execute_input": "2021-03-14T19:32:03.670555Z",
     "iopub.status.busy": "2021-03-14T19:32:03.670113Z",
     "iopub.status.idle": "2021-03-14T19:32:03.867008Z",
     "shell.execute_reply": "2021-03-14T19:32:03.866710Z",
     "shell.execute_reply.started": "2021-03-14T19:32:03.670505Z"
    },
    "tags": []
   },
   "outputs": [
    {
     "name": "stdout",
     "output_type": "stream",
     "text": [
      "                                 OLS Regression Results                                \n",
      "=======================================================================================\n",
      "Dep. Variable:                      R   R-squared (uncentered):                   0.332\n",
      "Model:                            OLS   Adj. R-squared (uncentered):              0.332\n",
      "Method:                 Least Squares   F-statistic:                              3133.\n",
      "Date:                Sun, 14 Mar 2021   Prob (F-statistic):                        0.00\n",
      "Time:                        15:32:03   Log-Likelihood:                          17657.\n",
      "No. Observations:                6301   AIC:                                 -3.531e+04\n",
      "Df Residuals:                    6300   BIC:                                 -3.531e+04\n",
      "Df Model:                           1                                                  \n",
      "Covariance Type:            nonrobust                                                  \n",
      "==============================================================================\n",
      "                 coef    std err          t      P>|t|      [0.025      0.975]\n",
      "------------------------------------------------------------------------------\n",
      "RM             0.9067      0.016     55.970      0.000       0.875       0.938\n",
      "==============================================================================\n",
      "Omnibus:                     1227.530   Durbin-Watson:                   1.964\n",
      "Prob(Omnibus):                  0.000   Jarque-Bera (JB):            34867.449\n",
      "Skew:                           0.179   Prob(JB):                         0.00\n",
      "Kurtosis:                      14.519   Cond. No.                         1.00\n",
      "==============================================================================\n",
      "\n",
      "Notes:\n",
      "[1] R² is computed without centering (uncentered) since the model does not contain a constant.\n",
      "[2] Standard Errors assume that the covariance matrix of the errors is correctly specified.\n"
     ]
    },
    {
     "data": {
      "image/png": "[encoded data removed]",
      "text/plain": [
       "<Figure size 360x360 with 1 Axes>"
      ]
     },
     "metadata": {
      "needs_background": "light"
     },
     "output_type": "display_data"
    },
    {
     "name": "stdout",
     "output_type": "stream",
     "text": [
      "                                 OLS Regression Results                                \n",
      "=======================================================================================\n",
      "Dep. Variable:                      R   R-squared (uncentered):                   0.192\n",
      "Model:                            OLS   Adj. R-squared (uncentered):              0.192\n",
      "Method:                 Least Squares   F-statistic:                              1500.\n",
      "Date:                Sun, 14 Mar 2021   Prob (F-statistic):                   1.61e-294\n",
      "Time:                        15:32:03   Log-Likelihood:                          13915.\n",
      "No. Observations:                6301   AIC:                                 -2.783e+04\n",
      "Df Residuals:                    6300   BIC:                                 -2.782e+04\n",
      "Df Model:                           1                                                  \n",
      "Covariance Type:            nonrobust                                                  \n",
      "==============================================================================\n",
      "                 coef    std err          t      P>|t|      [0.025      0.975]\n",
      "------------------------------------------------------------------------------\n",
      "RM             1.1363      0.029     38.728      0.000       1.079       1.194\n",
      "==============================================================================\n",
      "Omnibus:                     1964.903   Durbin-Watson:                   1.980\n",
      "Prob(Omnibus):                  0.000   Jarque-Bera (JB):           232261.428\n",
      "Skew:                          -0.417   Prob(JB):                         0.00\n",
      "Kurtosis:                      32.732   Cond. No.                         1.00\n",
      "==============================================================================\n",
      "\n",
      "Notes:\n",
      "[1] R² is computed without centering (uncentered) since the model does not contain a constant.\n",
      "[2] Standard Errors assume that the covariance matrix of the errors is correctly specified.\n"
     ]
    },
    {
     "data": {
      "image/png": "[encoded data removed]",
      "text/plain": [
       "<Figure size 360x360 with 1 Axes>"
      ]
     },
     "metadata": {
      "needs_background": "light"
     },
     "output_type": "display_data"
    },
    {
     "name": "stdout",
     "output_type": "stream",
     "text": [
      "                                 OLS Regression Results                                \n",
      "=======================================================================================\n",
      "Dep. Variable:                      R   R-squared (uncentered):                   0.122\n",
      "Model:                            OLS   Adj. R-squared (uncentered):              0.121\n",
      "Method:                 Least Squares   F-statistic:                              157.4\n",
      "Date:                Sun, 14 Mar 2021   Prob (F-statistic):                    6.51e-34\n",
      "Time:                        15:32:03   Log-Likelihood:                          2219.2\n",
      "No. Observations:                1135   AIC:                                     -4436.\n",
      "Df Residuals:                    1134   BIC:                                     -4431.\n",
      "Df Model:                           1                                                  \n",
      "Covariance Type:            nonrobust                                                  \n",
      "==============================================================================\n",
      "                 coef    std err          t      P>|t|      [0.025      0.975]\n",
      "------------------------------------------------------------------------------\n",
      "RM             1.3101      0.104     12.548      0.000       1.105       1.515\n",
      "==============================================================================\n",
      "Omnibus:                      262.175   Durbin-Watson:                   2.005\n",
      "Prob(Omnibus):                  0.000   Jarque-Bera (JB):             2947.095\n",
      "Skew:                           0.726   Prob(JB):                         0.00\n",
      "Kurtosis:                      10.760   Cond. No.                         1.00\n",
      "==============================================================================\n",
      "\n",
      "Notes:\n",
      "[1] R² is computed without centering (uncentered) since the model does not contain a constant.\n",
      "[2] Standard Errors assume that the covariance matrix of the errors is correctly specified.\n"
     ]
    },
    {
     "data": {
      "image/png": "[encoded data removed]",
      "text/plain": [
       "<Figure size 360x360 with 1 Axes>"
      ]
     },
     "metadata": {
      "needs_background": "light"
     },
     "output_type": "display_data"
    }
   ],
   "source": [
    "def regression(df, ticker=\"IBM\", end_date=\"2014-12-31\", verbose=True, plot=True):\n",
    "    \n",
    "    df_ticker = df.loc[df['TICKER'] == ticker]\n",
    "    df_ticker.index = pd.to_datetime(df_ticker['DATE'])\n",
    "    Xy = df_ticker.dropna(inplace=False)\n",
    "    data = Xy[[\"RM\", \"R\"]].loc[:end_date]\n",
    "    RM = data[\"RM\"]\n",
    "    R = data[\"R\"]\n",
    "    \n",
    "    mod = sm.OLS(R, RM)\n",
    "    res = mod.fit()\n",
    "    beta = res.params.values[0]\n",
    "    pvalue = res.pvalues.values[0]\n",
    "    if verbose:\n",
    "        print(res.summary())\n",
    "    if plot:\n",
    "        fig, ax = plt.subplots(figsize=(5, 5))\n",
    "        ax.scatter(RM, R, color=\"tab:blue\", label=\"scatter\")\n",
    "        ax.set_xlabel(\"Market Return\")\n",
    "        ax.set_ylabel(\"{} Return\".format(ticker))\n",
    "        x = sorted(RM)\n",
    "        y = res.predict(x)\n",
    "        ax.plot(x, y, color=\"tab:red\", label=\"regression\")\n",
    "        ax.set_title(\"beta={:.3f}, pvalue={:.5f}\".format(beta, pvalue))\n",
    "        plt.show()\n",
    "\n",
    "    return beta, pvalue\n",
    "\n",
    "\n",
    "beta_IMB, _ = regression(df=df_r, ticker=\"IBM\")\n",
    "beta_AAPL, _ = regression(df=df_r, ticker=\"AAPL\")\n",
    "beta_TSLA, _ = regression(df=df_r, ticker=\"TSLA\")"
   ]
  },
  {
   "cell_type": "markdown",
   "id": "finished-painting",
   "metadata": {},
   "source": [
    "The pvalue are all below 0.05, indicating we can reject the null hypothesis $\\beta=0$. So the beta is\n",
    "\n",
    "* beta of IBM is 0.907\n",
    "* beta of AAPL is 1.36\n",
    "* beta of TSLA is 1.31"
   ]
  },
  {
   "cell_type": "markdown",
   "id": "comfortable-assist",
   "metadata": {},
   "source": [
    "(b) Compute the holdings vector $\\mathbf{h} \\in \\mathbb{R}^3$ for the unique portfolio of TSLA, AAPL, and IBM which is dollar-neutral (ie. self-financing) and which has holding of 100 dollars in AAPL and zero exposure to beta as of Dec 31, 2014. In other words $\\mathbf{h}\\cdot\\beta = 0$ where $\\beta$ is the vector of betas computed in part (a)."
   ]
  },
  {
   "cell_type": "code",
   "execution_count": 23,
   "id": "qualified-responsibility",
   "metadata": {
    "execution": {
     "iopub.execute_input": "2021-03-14T19:33:02.402072Z",
     "iopub.status.busy": "2021-03-14T19:33:02.401821Z",
     "iopub.status.idle": "2021-03-14T19:33:02.407804Z",
     "shell.execute_reply": "2021-03-14T19:33:02.407087Z",
     "shell.execute_reply.started": "2021-03-14T19:33:02.402047Z"
    },
    "tags": []
   },
   "outputs": [
    {
     "name": "stdout",
     "output_type": "stream",
     "text": [
      "[[-43.08561394]\n",
      " [100.        ]\n",
      " [-56.91438606]]\n"
     ]
    }
   ],
   "source": [
    "import numpy as np\n",
    "\n",
    "A = np.matrix([[1, 1, 1], [0, 1, 0], [beta_IMB, beta_AAPL, beta_TSLA]])\n",
    "b = np.matrix(\"0;100;0\")\n",
    "\n",
    "h = np.linalg.inv(A) * b\n",
    "print(h)"
   ]
  },
  {
   "cell_type": "markdown",
   "id": "israeli-conspiracy",
   "metadata": {},
   "source": [
    "The holding is\n",
    "* short 43.08 dollars in IBM\n",
    "* long 100 dollars in AAPL\n",
    "* short 56.91 dollars in TSLA"
   ]
  },
  {
   "cell_type": "markdown",
   "id": "substantial-metadata",
   "metadata": {},
   "source": [
    "(c) Compute the daily returns of the portfolio from (b) over the period Jan 1, 2015 to Dec 31, 2015. Assume that each day, the portfolio is rebalanced back to the initial holdings vector $h \\in \\mathbb{R}^3$. Plot the cumulative sum of the log returns."
   ]
  },
  {
   "cell_type": "code",
   "execution_count": 24,
   "id": "statutory-diameter",
   "metadata": {
    "execution": {
     "iopub.execute_input": "2021-03-14T19:33:49.739237Z",
     "iopub.status.busy": "2021-03-14T19:33:49.738628Z",
     "iopub.status.idle": "2021-03-14T19:33:49.919811Z",
     "shell.execute_reply": "2021-03-14T19:33:49.919524Z",
     "shell.execute_reply.started": "2021-03-14T19:33:49.739175Z"
    },
    "tags": []
   },
   "outputs": [
    {
     "data": {
      "text/plain": [
       "Text(0, 0.5, 'Cumulative sum of the log returns')"
      ]
     },
     "execution_count": 24,
     "metadata": {},
     "output_type": "execute_result"
    },
    {
     "data": {
      "image/png": "[encoded data removed]",
      "text/plain": [
       "<Figure size 864x288 with 1 Axes>"
      ]
     },
     "metadata": {
      "needs_background": "light"
     },
     "output_type": "display_data"
    }
   ],
   "source": [
    "R = df_r.groupby(\"DATE\").apply(lambda x: (x[\"R\"].values * h).item(0))\n",
    "R.index = pd.to_datetime(R.index)\n",
    "R = R.loc[\"2015-01-01\":\"2015-12-31\"]\n",
    "PL = R.cumsum()\n",
    "fig, ax = plt.subplots(figsize=(12, 4))\n",
    "ax.plot(PL)\n",
    "ax.set_xlabel(\"Date\")\n",
    "ax.set_ylabel(\"Cumulative sum of the log returns\")"
   ]
  },
  {
   "cell_type": "markdown",
   "id": "protective-mapping",
   "metadata": {
    "tags": []
   },
   "source": [
    "(d) Compute the realized correlation of the returns in part (c) to the market’s return, using the S&P 500 as a proxy for the market portfolio. Construct a statistical test of the null hypothesis that the correlation is zero. Is the realized correlation significantly different from zero at the 95% level?"
   ]
  },
  {
   "cell_type": "code",
   "execution_count": 25,
   "id": "greatest-links",
   "metadata": {
    "execution": {
     "iopub.execute_input": "2021-03-14T19:33:59.124280Z",
     "iopub.status.busy": "2021-03-14T19:33:59.123424Z",
     "iopub.status.idle": "2021-03-14T19:33:59.307402Z",
     "shell.execute_reply": "2021-03-14T19:33:59.307123Z",
     "shell.execute_reply.started": "2021-03-14T19:33:59.124224Z"
    },
    "tags": []
   },
   "outputs": [
    {
     "name": "stdout",
     "output_type": "stream",
     "text": [
      "[*********************100%***********************]  1 of 1 completed\n",
      "The correlation coefficient is 0.02919545682839322\n",
      "The p-value if the t-test is 0.6452776657810241\n",
      "Since p-value is greater than 5%,the realized correlation is notsignificantly different from 0 at the 95% level\n"
     ]
    }
   ],
   "source": [
    "import yfinance as yf\n",
    "from scipy import stats\n",
    "\n",
    "data_SP500 = yf.download(\"^GSPC\", start=\"2014-12-31\", end=\"2015-12-31\")\n",
    "RM = data_SP500[\"Adj Close\"].pct_change().dropna()\n",
    "r, p = stats.pearsonr(R, RM)\n",
    "print(\"The correlation coefficient is {}\".format(r))\n",
    "print(\"The p-value if the t-test is {}\".format(p))\n",
    "if p > 0.05:\n",
    "    print(\n",
    "        \"Since p-value is greater than 5%,\"\n",
    "        \"the realized correlation is not\"\n",
    "        \"significantly different from 0 at the 95% level\"\n",
    "    )\n",
    "else:\n",
    "    print(\n",
    "        \"Since p-value is less than 5%,\"\n",
    "        \"the realized correlation is indeed\"\n",
    "        \"significantly different from 0 at the 95% level\"\n",
    "    )"
   ]
  },
  {
   "cell_type": "markdown",
   "id": "italic-questionnaire",
   "metadata": {
    "tags": []
   },
   "source": [
    "## Problem 4.2"
   ]
  },
  {
   "cell_type": "markdown",
   "id": "extreme-arthur",
   "metadata": {},
   "source": [
    "$$\n",
    "\\newcommand{\\E}{\\mathbb{E}}\n",
    "\\newcommand{\\Var}{\\mathrm{Var}}\n",
    "\\newcommand{\\Cov}{\\mathrm{Cov}}\n",
    "$$\n",
    "\n",
    "(a) We first compute the expectation of the fund's return\n",
    "\n",
    "$$\n",
    "\\E[h'r] = \\frac{1}{n}\\sum_{i=1}^n \\E[r_i] = \\frac{1}{n}\\sum_{i=1}^n\\E[\\beta r_M+\\epsilon_i] = \\beta\\E[r_M]+\\frac{1}{n}\\sum_{i=1}^n\\E[\\epsilon_i]\n",
    "$$\n",
    "\n",
    "Then we compute the variance\n",
    "\n",
    "$$\n",
    "\\Var[h'r] = \\frac{1}{n^2}\\Var\\left[\\sum_{i=1}^n r_i\\right] \n",
    "= \\frac{1}{n^2}\\left[\\sum_{i=1}^n\\Var[r_i]+\\sum_{i\\neq j}\\Cov(r_i, r_j)\\right]\n",
    "$$\n",
    "\n",
    "where\n",
    "\n",
    "$$\n",
    "\\Var[r_i] = \\Var(\\beta r_M+\\epsilon_i) = \\beta^2\\sigma_M^2+\\sigma_i^2\n",
    "$$\n",
    "\n",
    "and for $i\\neq j$\n",
    "\n",
    "$$\n",
    "\\Cov(r_i, r_j) = \\Cov(\\beta r_M+\\epsilon_i, \\beta r_M + \\epsilon_j) = \\beta^2\\Cov(r_M, r_M) = \\beta^2\\sigma_M^2\n",
    "$$\n",
    "\n",
    "Thus we have\n",
    "\n",
    "$$\n",
    "\\begin{aligned}\n",
    "\\Var[h'r] &= \\frac{1}{n^2}\\left[\\sum_{i=1}^n\\Var[r_i]+\\sum_{i\\neq j}\\Cov(r_i, r_j)\\right]\\\\\n",
    "          &= \\frac{1}{n^2}\\left[\\sum_{i=1}^n(\\beta^2\\sigma_M^2+\\sigma_i^2)+\\beta^2\\sigma_M^2\\cdot(n^2-n)\\right]\\\\\n",
    "          &= \\beta^2\\sigma_M^2 + \\frac{1}{n^2}\\sum_{i=1}^n\\sigma_i^2\\\\\n",
    "          &= f(\\beta, \\sigma_M^2) + g(\\sigma_1^2,\\dots,\\sigma_n^2)\n",
    "\\end{aligned}\n",
    "$$\n",
    "\n",
    "where\n",
    "\n",
    "$$\n",
    "f(\\beta, \\sigma_M^2) = \\beta^2\\sigma_M^2,\\quad g(\\sigma_1^2,\\dots,\\sigma_n^2) = \\frac{1}{n^2}\\sum_{i=1}^n\\sigma_i^2\n",
    "$$"
   ]
  },
  {
   "cell_type": "markdown",
   "id": "familiar-mentor",
   "metadata": {},
   "source": [
    "(b) see the code below"
   ]
  },
  {
   "cell_type": "code",
   "execution_count": 34,
   "id": "helpful-winning",
   "metadata": {
    "execution": {
     "iopub.execute_input": "2021-03-14T19:59:49.436591Z",
     "iopub.status.busy": "2021-03-14T19:59:49.436165Z",
     "iopub.status.idle": "2021-03-14T19:59:49.522763Z",
     "shell.execute_reply": "2021-03-14T19:59:49.522352Z",
     "shell.execute_reply.started": "2021-03-14T19:59:49.436542Z"
    },
    "tags": []
   },
   "outputs": [
    {
     "name": "stdout",
     "output_type": "stream",
     "text": [
      "f = 0.010, g = 0.000450\n",
      "f = 0.010, g = 0.000300\n",
      "f = 0.010, g = 0.000225\n",
      "f = 0.010, g = 0.000180\n",
      "f = 0.010, g = 0.000150\n",
      "f = 0.010, g = 0.000129\n",
      "f = 0.010, g = 0.000112\n",
      "f = 0.010, g = 0.000100\n",
      "f = 0.010, g = 0.000090\n",
      "f = 0.010, g = 0.000082\n",
      "f = 0.010, g = 0.000075\n",
      "f = 0.010, g = 0.000069\n",
      "f = 0.010, g = 0.000064\n",
      "f = 0.010, g = 0.000060\n",
      "f = 0.010, g = 0.000056\n",
      "f = 0.010, g = 0.000053\n",
      "f = 0.010, g = 0.000050\n",
      "f = 0.010, g = 0.000047\n",
      "f = 0.010, g = 0.000045\n",
      "f = 0.010, g = 0.000043\n",
      "f = 0.010, g = 0.000041\n",
      "f = 0.010, g = 0.000039\n",
      "f = 0.010, g = 0.000037\n",
      "f = 0.010, g = 0.000036\n",
      "f = 0.010, g = 0.000035\n",
      "f = 0.010, g = 0.000033\n",
      "f = 0.010, g = 0.000032\n",
      "f = 0.010, g = 0.000031\n",
      "f = 0.010, g = 0.000030\n"
     ]
    },
    {
     "data": {
      "text/plain": [
       "Text(0, 0.5, 'variance explained by the market')"
      ]
     },
     "execution_count": 34,
     "metadata": {},
     "output_type": "execute_result"
    },
    {
     "data": {
      "image/png": "[encoded data removed]",
      "text/plain": [
       "<Figure size 576x432 with 1 Axes>"
      ]
     },
     "metadata": {
      "needs_background": "light"
     },
     "output_type": "display_data"
    }
   ],
   "source": [
    "def f(beta, sigma_M, n):\n",
    "    return beta * beta * sigma_M * sigma_M\n",
    "\n",
    "\n",
    "def g(sigma, n):\n",
    "    return (sigma ** 2) / n\n",
    "\n",
    "\n",
    "var_explained = []\n",
    "ns = []\n",
    "beta = 0.5\n",
    "sigma_M = 0.2\n",
    "sigma_i = 0.03\n",
    "for n in range(2, 31):\n",
    "    ns.append(n)\n",
    "    fn = f(beta, sigma_M, n)\n",
    "    gn = g(sigma_i, n)\n",
    "    print('f = {:.3f}, g = {:.6f}'.format(fn, gn))\n",
    "    var_explained.append(fn / (fn + gn))\n",
    "\n",
    "fig, ax = plt.subplots(figsize=(8, 6))\n",
    "ax.plot(ns, var_explained, \"o-\")\n",
    "ax.set_xlabel(\"number of hedge funds\")\n",
    "ax.set_ylabel(\"variance explained by the market\")"
   ]
  },
  {
   "cell_type": "markdown",
   "id": "driven-possession",
   "metadata": {},
   "source": [
    "The variance ratio is close to 1 when we have more hedge funds"
   ]
  },
  {
   "cell_type": "code",
   "execution_count": 35,
   "id": "earned-encyclopedia",
   "metadata": {
    "execution": {
     "iopub.execute_input": "2021-03-14T20:00:18.196474Z",
     "iopub.status.busy": "2021-03-14T20:00:18.195803Z",
     "iopub.status.idle": "2021-03-14T20:00:18.291462Z",
     "shell.execute_reply": "2021-03-14T20:00:18.291104Z",
     "shell.execute_reply.started": "2021-03-14T20:00:18.196414Z"
    },
    "tags": []
   },
   "outputs": [
    {
     "data": {
      "text/plain": [
       "<matplotlib.legend.Legend at 0x139fc2190>"
      ]
     },
     "execution_count": 35,
     "metadata": {},
     "output_type": "execute_result"
    },
    {
     "data": {
      "image/png": "[encoded data removed]",
      "text/plain": [
       "<Figure size 576x432 with 1 Axes>"
      ]
     },
     "metadata": {
      "needs_background": "light"
     },
     "output_type": "display_data"
    }
   ],
   "source": [
    "def E(beta, ERM, ER):\n",
    "    return beta * ERM + ER\n",
    "\n",
    "\n",
    "def Var(beta, sigma_M, sigma, n):\n",
    "    return f(beta, sigma_M, n) + g(sigma, n)\n",
    "\n",
    "\n",
    "SPs1 = []\n",
    "SPs2 = []\n",
    "for n in range(2, 31):\n",
    "    SP1 = (E(beta=beta, ERM=0.07, ER=1.5 * sigma_i) - 0.01) / np.sqrt(\n",
    "        Var(beta, sigma_M, sigma_i, n)\n",
    "    )\n",
    "    SPs1.append(SP1)\n",
    "\n",
    "    SP2 = (E(beta=beta, ERM=0.07, ER=2.0 * sigma_i) - 0.01) / np.sqrt(\n",
    "        Var(beta, sigma_M, sigma_i, n)\n",
    "    )\n",
    "    SPs2.append(SP2)\n",
    "\n",
    "SP = (E(beta=0, ERM=0.07, ER=1.5 * 0.1) - 0.01) / np.sqrt(\n",
    "    Var(beta=0, sigma_M=sigma_M, sigma=0.1, n=1)\n",
    ")\n",
    "fig, ax = plt.subplots(figsize=(8, 6))\n",
    "ax.plot(ns, SPs1, \"o-\", label=\"Sharpe ratio of fund is 1.5\")\n",
    "ax.plot(ns, SPs2, \"o-\", label=\"Sharpe ratio of fund is 2.0\")\n",
    "ax.hlines(y=SP, xmin=2, xmax=30, label=\"Single fund with beta=0 and sigma=0.1\")\n",
    "ax.set_xlabel(\"number of hedge funds\")\n",
    "ax.set_ylabel(\"Sharpe ratio\")\n",
    "ax.legend(loc=\"lower right\")"
   ]
  },
  {
   "cell_type": "markdown",
   "id": "illegal-brooks",
   "metadata": {},
   "source": [
    "The sharpe ratio will increase if the Sharpe ratio of $\\epsilon_i$ is larger."
   ]
  },
  {
   "cell_type": "markdown",
   "id": "independent-christmas",
   "metadata": {},
   "source": [
    "(d) It's better since the Sharpe ratio is larger. Since the market portfolio have a very low sharpe ratio, letting $\\beta=0$ will make the portfolio's Sharpe ratio close to the single fund's one (1.5)"
   ]
  },
  {
   "cell_type": "code",
   "execution_count": null,
   "id": "angry-hindu",
   "metadata": {},
   "outputs": [],
   "source": []
  }
 ],
 "metadata": {
  "kernelspec": {
   "display_name": "Python 3",
   "language": "python",
   "name": "python3"
  },
  "language_info": {
   "codemirror_mode": {
    "name": "ipython",
    "version": 3
   },
   "file_extension": ".py",
   "mimetype": "text/x-python",
   "name": "python",
   "nbconvert_exporter": "python",
   "pygments_lexer": "ipython3",
   "version": "3.9.1"
  }
 },
 "nbformat": 4,
 "nbformat_minor": 5
}
